{
  "nbformat": 4,
  "nbformat_minor": 0,
  "metadata": {
    "colab": {
      "provenance": [],
      "authorship_tag": "ABX9TyP1y1L1N7/D5CGF71BinkgY",
      "include_colab_link": true
    },
    "kernelspec": {
      "name": "python3",
      "display_name": "Python 3"
    },
    "language_info": {
      "name": "python"
    }
  },
  "cells": [
    {
      "cell_type": "markdown",
      "metadata": {
        "id": "view-in-github",
        "colab_type": "text"
      },
      "source": [
        "<a href=\"https://colab.research.google.com/github/ramonsouzarss/dio/blob/main/DIO_Rede_Neural.ipynb\" target=\"_parent\"><img src=\"https://colab.research.google.com/assets/colab-badge.svg\" alt=\"Open In Colab\"/></a>"
      ]
    },
    {
      "cell_type": "markdown",
      "source": [
        "#Rede de Deep Learning\n",
        "##Para reconhecer dígitos\n",
        "#####Foi aplicado o modelo [InceptionV3](https://keras.io/api/applications/inceptionv3/)\n"
      ],
      "metadata": {
        "id": "RFuhesXbqjpt"
      }
    },
    {
      "cell_type": "code",
      "execution_count": 1,
      "metadata": {
        "id": "U1seilJVcRxg"
      },
      "outputs": [],
      "source": [
        "import numpy as np\n",
        "import torch\n",
        "import torch.nn.functional as F\n",
        "import torchvision\n",
        "import matplotlib.pyplot as plt\n",
        "from time import time\n",
        "from torchvision import datasets, transforms\n",
        "from torch import nn, optim"
      ]
    },
    {
      "cell_type": "code",
      "source": [
        "transform = transforms.ToTensor() # Conversão de imagem para tensor\n",
        "\n",
        "# Carrega a parte de treino do dataset\n",
        "trainset = datasets.MNIST('./MNIST_data/', download=True,\n",
        "                          train=True, transform=transform)\n",
        "# Cria um buffer para pegar os dados por partes\n",
        "trainloader = torch.utils.data.DataLoader(trainset, batch_size=64, shuffle=True)\n",
        "\n",
        "# Carrega a parte de validação do dataset\n",
        "valset = datasets.MNIST('./MNIST_data/', download=True,\n",
        "                          train=False, transform=transform)\n",
        "# Cria um buffer para pegar os dados por partes\n",
        "valloader = torch.utils.data.DataLoader(valset, batch_size=64, shuffle=True)"
      ],
      "metadata": {
        "id": "X0CFJdI4c64W"
      },
      "execution_count": 2,
      "outputs": []
    },
    {
      "cell_type": "code",
      "source": [
        "class Modelo(nn.Module):\n",
        "\n",
        "  def __init__(self):\n",
        "    super(Modelo, self).__init__()\n",
        "    self.linear1 = nn.Linear(28*28, 128) # Camada de entrada\n",
        "    self.linear2 = nn.Linear(128, 64) # Camada interna 1\n",
        "    self.linear3 = nn.Linear(64, 10) # Camada interna 2\n",
        "    ''' Não é necessário definir a camada de saída pois é só pegar o output da\n",
        "    camada interna 2 '''\n",
        "\n",
        "  def call(self, X):\n",
        "    X = F.relu(self.linear1(X)) # F Ativação da camada de entrada para interna 1\n",
        "    X = F.relu(self.linear2(X)) # F Ativação da camada interna 1 para interna 2\n",
        "    X = self.linear3(X) # Ativação da camada interna 2 para camada de saída\n",
        "    return F.log_softmax(X, dim=1) # Dados utilizados para calcular a perda"
      ],
      "metadata": {
        "id": "qBElPR6khiLa"
      },
      "execution_count": 3,
      "outputs": []
    },
    {
      "cell_type": "code",
      "source": [
        "def treino(modelo, trainloader, device):\n",
        "\n",
        "  otimizador = optim.SGD(modelo.parameters(), lr=0.01, momentum=0.5)\n",
        "  inicio = time()\n",
        "\n",
        "  criterio = nn.NLLLoss()\n",
        "  EPOCHS = 10\n",
        "  modelo.train()\n",
        "\n",
        "  for epoch in range(EPOCHS):\n",
        "    perda_acumulada = 0\n",
        "\n",
        "    for images, labels in trainloader:\n",
        "\n",
        "      images = images.view(images.shape[0], -1)\n",
        "      otimizador.zero_grad()\n",
        "\n",
        "      output = modelo(images.to(device))\n",
        "      perda_instantanea = criterio(output, labels.to(device))\n",
        "\n",
        "      perda_instantanea.backward()\n",
        "\n",
        "      otimizador.step()\n",
        "\n",
        "      perda_acumulada += perda_acumulada.item()\n",
        "\n",
        "    else:\n",
        "      print(\"Epoch {} - Perda resultante: {}\".format(epoch+1, perda_acumulada/\n",
        "                                                     len(trainloader)))\n",
        "  print(\"\\nTempo de treino (min) =\",(time()-inicio)/60)"
      ],
      "metadata": {
        "id": "LhjubIibkYg0"
      },
      "execution_count": 4,
      "outputs": []
    },
    {
      "cell_type": "code",
      "source": [
        "def validacao(modelo, valloader, device):\n",
        "  conta_corretas, conta_todas = 0, 0\n",
        "  for images,labels in valloader:\n",
        "    for i in range(len(labels)):\n",
        "      img = images[i].view(1, 784)\n",
        "\n",
        "      with torch.no_grad():\n",
        "        logps = modelo(img.to(device))\n",
        "\n",
        "      ps = torch.exp(logps)\n",
        "      probab = list(ps.cpu().numpy()[0])\n",
        "      label_pred = probab.index(max(probab))\n",
        "      label_certa = labels.numpy()[i]\n",
        "      if(label_certa == label_pred):\n",
        "        conta_corretas += 1\n",
        "      conta_todas += 1\n",
        "  print(\"Total de imagens testadas =\", conta_todas)\n",
        "  print(\"\\nPrecisão do modelo = {}%\".format(conta_corretas*100/conta_todas))"
      ],
      "metadata": {
        "id": "uaGyKxQ9mit_"
      },
      "execution_count": 5,
      "outputs": []
    },
    {
      "cell_type": "code",
      "source": [
        "modelo = Modelo()\n",
        "device = torch.device(\"cuda\" if torch.cuda.is_available() else \"cpu\")\n",
        "modelo.to(device)"
      ],
      "metadata": {
        "colab": {
          "base_uri": "https://localhost:8080/"
        },
        "id": "RK_X7NleolFX",
        "outputId": "22f9ad2b-b298-457d-896b-0ae69fb4d1be"
      },
      "execution_count": 6,
      "outputs": [
        {
          "output_type": "execute_result",
          "data": {
            "text/plain": [
              "Modelo(\n",
              "  (linear1): Linear(in_features=784, out_features=128, bias=True)\n",
              "  (linear2): Linear(in_features=128, out_features=64, bias=True)\n",
              "  (linear3): Linear(in_features=64, out_features=10, bias=True)\n",
              ")"
            ]
          },
          "metadata": {},
          "execution_count": 6
        }
      ]
    },
    {
      "cell_type": "code",
      "source": [
        "dataiter = iter(valloader)\n",
        "images, labels = next(dataiter)\n",
        "plt.imshow(images[0].numpy().squeeze(), cmap='gray_r')"
      ],
      "metadata": {
        "colab": {
          "base_uri": "https://localhost:8080/",
          "height": 447
        },
        "id": "KPt_IRwoxvzS",
        "outputId": "3bcdcbdd-ba08-4721-e0f1-76a32596fe8b"
      },
      "execution_count": 33,
      "outputs": [
        {
          "output_type": "execute_result",
          "data": {
            "text/plain": [
              "<matplotlib.image.AxesImage at 0x7e65bcc58970>"
            ]
          },
          "metadata": {},
          "execution_count": 33
        },
        {
          "output_type": "display_data",
          "data": {
            "text/plain": [
              "<Figure size 640x480 with 1 Axes>"
            ],
            "image/png": "[encoded data removed]"
          },
          "metadata": {}
        }
      ]
    }
  ]
}